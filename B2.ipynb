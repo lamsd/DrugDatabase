{
 "cells": [
  {
   "cell_type": "code",
   "execution_count": 1,
   "id": "9fb8e144-3722-43ac-9faa-0a79e8d41c3d",
   "metadata": {},
   "outputs": [],
   "source": [
    "import requests\n",
    "from bs4 import BeautifulSoup\n",
    "from tqdm import trange\n",
    "import shutil\n",
    "import os\n",
    "import math \n",
    "import time"
   ]
  },
  {
   "cell_type": "code",
   "execution_count": 6,
   "id": "3770cc15-9f24-478c-b761-5d30eab312ba",
   "metadata": {},
   "outputs": [
    {
     "name": "stderr",
     "output_type": "stream",
     "text": [
      " 10%|████▍                                       | 2/20 [00:00<00:05,  3.27it/s]"
     ]
    },
    {
     "name": "stdout",
     "output_type": "stream",
     "text": [
      "Print data when shaping the 1: 2\n"
     ]
    },
    {
     "name": "stderr",
     "output_type": "stream",
     "text": [
      " 15%|██████▌                                     | 3/20 [00:01<00:06,  2.55it/s]"
     ]
    },
    {
     "name": "stdout",
     "output_type": "stream",
     "text": [
      "Print data when shaping the 2: 368\n"
     ]
    },
    {
     "name": "stderr",
     "output_type": "stream",
     "text": [
      " 20%|████████▊                                   | 4/20 [00:01<00:07,  2.10it/s]"
     ]
    },
    {
     "name": "stdout",
     "output_type": "stream",
     "text": [
      "Print data when shaping the 3: 1\n"
     ]
    },
    {
     "name": "stderr",
     "output_type": "stream",
     "text": [
      " 25%|███████████                                 | 5/20 [00:02<00:07,  2.05it/s]"
     ]
    },
    {
     "name": "stdout",
     "output_type": "stream",
     "text": [
      "Print data when shaping the 4: 5\n"
     ]
    },
    {
     "name": "stderr",
     "output_type": "stream",
     "text": [
      " 30%|█████████████▏                              | 6/20 [00:02<00:06,  2.02it/s]"
     ]
    },
    {
     "name": "stdout",
     "output_type": "stream",
     "text": [
      "Print data when shaping the 5: 368\n"
     ]
    },
    {
     "name": "stderr",
     "output_type": "stream",
     "text": [
      " 35%|███████████████▍                            | 7/20 [00:03<00:06,  1.89it/s]"
     ]
    },
    {
     "name": "stdout",
     "output_type": "stream",
     "text": [
      "Print data when shaping the 6: 338\n"
     ]
    },
    {
     "name": "stderr",
     "output_type": "stream",
     "text": [
      " 40%|█████████████████▌                          | 8/20 [00:03<00:06,  1.87it/s]"
     ]
    },
    {
     "name": "stdout",
     "output_type": "stream",
     "text": [
      "Print data when shaping the 7: 2\n"
     ]
    },
    {
     "name": "stderr",
     "output_type": "stream",
     "text": [
      " 45%|███████████████████▊                        | 9/20 [00:04<00:05,  1.91it/s]"
     ]
    },
    {
     "name": "stdout",
     "output_type": "stream",
     "text": [
      "Print data when shaping the 8: 7\n"
     ]
    },
    {
     "name": "stderr",
     "output_type": "stream",
     "text": [
      " 50%|█████████████████████▌                     | 10/20 [00:05<00:05,  1.81it/s]"
     ]
    },
    {
     "name": "stdout",
     "output_type": "stream",
     "text": [
      "Print data when shaping the 9: 15\n"
     ]
    },
    {
     "name": "stderr",
     "output_type": "stream",
     "text": [
      " 55%|███████████████████████▋                   | 11/20 [00:05<00:05,  1.75it/s]"
     ]
    },
    {
     "name": "stdout",
     "output_type": "stream",
     "text": [
      "Print data when shaping the 10: 1\n"
     ]
    },
    {
     "name": "stderr",
     "output_type": "stream",
     "text": [
      " 60%|█████████████████████████▊                 | 12/20 [00:06<00:04,  1.73it/s]"
     ]
    },
    {
     "name": "stdout",
     "output_type": "stream",
     "text": [
      "Print data when shaping the 11: 1\n"
     ]
    },
    {
     "name": "stderr",
     "output_type": "stream",
     "text": [
      " 65%|███████████████████████████▉               | 13/20 [00:06<00:03,  1.79it/s]"
     ]
    },
    {
     "name": "stdout",
     "output_type": "stream",
     "text": [
      "Print data when shaping the 12: 1\n"
     ]
    },
    {
     "name": "stderr",
     "output_type": "stream",
     "text": [
      " 70%|██████████████████████████████             | 14/20 [00:07<00:03,  1.82it/s]"
     ]
    },
    {
     "name": "stdout",
     "output_type": "stream",
     "text": [
      "Print data when shaping the 13: 13\n"
     ]
    },
    {
     "name": "stderr",
     "output_type": "stream",
     "text": [
      " 75%|████████████████████████████████▎          | 15/20 [00:07<00:02,  1.77it/s]"
     ]
    },
    {
     "name": "stdout",
     "output_type": "stream",
     "text": [
      "Print data when shaping the 14: 662\n"
     ]
    },
    {
     "name": "stderr",
     "output_type": "stream",
     "text": [
      " 80%|██████████████████████████████████▍        | 16/20 [00:08<00:02,  1.82it/s]"
     ]
    },
    {
     "name": "stdout",
     "output_type": "stream",
     "text": [
      "Print data when shaping the 15: 1\n"
     ]
    },
    {
     "name": "stderr",
     "output_type": "stream",
     "text": [
      " 85%|████████████████████████████████████▌      | 17/20 [00:09<00:01,  1.66it/s]"
     ]
    },
    {
     "name": "stdout",
     "output_type": "stream",
     "text": [
      "Print data when shaping the 16: 6\n"
     ]
    },
    {
     "name": "stderr",
     "output_type": "stream",
     "text": [
      " 90%|██████████████████████████████████████▋    | 18/20 [00:09<00:01,  1.73it/s]"
     ]
    },
    {
     "name": "stdout",
     "output_type": "stream",
     "text": [
      "Print data when shaping the 17: 11\n"
     ]
    },
    {
     "name": "stderr",
     "output_type": "stream",
     "text": [
      " 95%|████████████████████████████████████████▊  | 19/20 [00:10<00:00,  1.69it/s]"
     ]
    },
    {
     "name": "stdout",
     "output_type": "stream",
     "text": [
      "Print data when shaping the 18: 4\n"
     ]
    },
    {
     "name": "stderr",
     "output_type": "stream",
     "text": [
      "100%|███████████████████████████████████████████| 20/20 [00:11<00:00,  1.81it/s]"
     ]
    },
    {
     "name": "stdout",
     "output_type": "stream",
     "text": [
      "list index out of range\n"
     ]
    },
    {
     "name": "stderr",
     "output_type": "stream",
     "text": [
      "\n"
     ]
    }
   ],
   "source": [
    "for i in trange(20):\n",
    "    if i != 0:\n",
    "        try: \n",
    "            url = f'https://www.medicine.com/pill-finder/search?imprint=&shape={i}&color='\n",
    "            response = requests.get(url)\n",
    "            soup = BeautifulSoup(response.text, 'html.parser')\n",
    "            x1 = soup.find_all(\"p\", {'class':'mdc-search-results-count'})\n",
    "            abc = x1[0].find_all(\"b\")#.get_text()\n",
    "            index_pages = abc[0].get_text().split(\" - \")[1]\n",
    "            number_pages = int(abc[1].get_text().replace(\",\", \"\"))/ int(index_pages)\n",
    "            # print(number_pages)\n",
    "            print(\"Print data when shaping the {}: {}\".format(i,  math.ceil(number_pages)))\n",
    "        except Exception as e:\n",
    "            print(e)"
   ]
  },
  {
   "cell_type": "code",
   "execution_count": 5,
   "id": "836ceae9-5855-4aa3-ab71-de0e6973461c",
   "metadata": {},
   "outputs": [
    {
     "data": {
      "text/plain": [
       "'11903'"
      ]
     },
     "execution_count": 5,
     "metadata": {},
     "output_type": "execute_result"
    }
   ],
   "source": [
    "s = '11,903'\n",
    "s.replace(\",\", \"\")"
   ]
  },
  {
   "cell_type": "code",
   "execution_count": 25,
   "id": "ba3ea026-bd8e-43f7-bd7b-a9acedd087a2",
   "metadata": {},
   "outputs": [
    {
     "name": "stdout",
     "output_type": "stream",
     "text": [
      "4.555555555555555\n",
      "5\n"
     ]
    }
   ],
   "source": [
    "abc = x1[0].find_all(\"b\")#.get_text()\n",
    "index_pages = abc[0].get_text().split(\" - \")[1]\n",
    "number_pages = int(abc[1].get_text())/ int(index_pages)\n",
    "print(number_pages)\n",
    "print(math.ceil(number_pages))"
   ]
  },
  {
   "cell_type": "code",
   "execution_count": null,
   "id": "2852ff01-dd40-44be-9ebe-3c5946456cad",
   "metadata": {},
   "outputs": [],
   "source": [
    "for i in x1[0].find_all(\"b\"):\n",
    "    print(i.get_text())"
   ]
  },
  {
   "cell_type": "code",
   "execution_count": null,
   "id": "3018967e-65b3-43c3-a104-d3f2aba2ea16",
   "metadata": {},
   "outputs": [],
   "source": [
    "import requests\n",
    "\n",
    "\n",
    "url = 'https://www.medicine.com/cms/img/imprint/mmx/t101840f.jpg'\n",
    "response = requests.get(url, stream=True)\n",
    "\n",
    "with open('Image1/example/image.jpg', 'wb') as out_file:\n",
    "    shutil.copyfileobj(response.raw, out_file)"
   ]
  },
  {
   "cell_type": "code",
   "execution_count": null,
   "id": "7322e93f-c44b-48b5-ab32-92f62aef8df8",
   "metadata": {},
   "outputs": [],
   "source": [
    "url = 'https://www.medicine.com/cms/img/imprint/mmx/t101840f.png'\n",
    "url.endswith((\".jpg\",\".png\", \".webp\", \"jpeg\")) "
   ]
  },
  {
   "cell_type": "code",
   "execution_count": null,
   "id": "75adf7e4-0f01-42e2-a2da-058ddb88f4e5",
   "metadata": {},
   "outputs": [],
   "source": [
    "url = 'https://www.medicine.com/cms/img/imprint/mmx/t101840f.jpg'\n",
    "if url.endswith(\".jpg\") &  url.startswith(\"https://\"):\n",
    "    response = requests.get(url, stream=True)\n",
    "    name_path = url.split(\"/\")[-1]\n",
    "    with open('Image1/example/image.jpg', 'wb') as out_file:\n",
    "        shutil.copyfileobj(response.raw, out_file)"
   ]
  },
  {
   "cell_type": "code",
   "execution_count": null,
   "id": "6bef9121-4817-4832-b936-141a0f25318b",
   "metadata": {},
   "outputs": [],
   "source": [
    "def download_data(path_image, path_out):\n",
    "    if path_image.endswith((\".jpg\",\".png\", \".webp\", \"jpeg\")) &  path_image.startswith(\"https://\"):\n",
    "        response = requests.get(path_image, stream=True)\n",
    "        name_path = path_image.split(\"/\")[-1]\n",
    "        with open(f\"{path_out}/{name_path}\", 'wb') as out_file:\n",
    "            shutil.copyfileobj(response.raw, out_file)"
   ]
  },
  {
   "cell_type": "code",
   "execution_count": null,
   "id": "6eeacdb5-0e9a-4b63-b853-c6ae44c171a0",
   "metadata": {},
   "outputs": [],
   "source": [
    "def crawpling_data(name_out, name_number=1):\n",
    "    url = f'https://www.medicine.com/pill-finder/search?imprint=&shape={name_number}&color=&page=1'\n",
    "    response = requests.get(url)\n",
    "    soup = BeautifulSoup(response.text, 'html.parser')\n",
    "    index_x = soup.find_all('ul',{\"class\":\"mdc-pagination\"})\n",
    "    index_number = index_x[0].find_all(\"a\")[-2].get_text()\n",
    "    path_out = f\"Image1/{name_out}\"\n",
    "    if not os.path.exists(path_out):\n",
    "        os.makedirs(path_out)\n",
    "    for i in trange(int(index_number)):\n",
    "        url = f'https://www.medicine.com/pill-finder/search?imprint=&shape={name_number}&color=&page={i+1}'\n",
    "        response = requests.get(url)\n",
    "        soup = BeautifulSoup(response.text, 'html.parser')\n",
    "        images = soup.find_all('img')\n",
    "        if len(images) == 0:\n",
    "            continue\n",
    "        for image in images:\n",
    "            path_image = image['src']\n",
    "            download_data(path_image, path_out)\n",
    "# crawpling_data(\"ba1\", 1)            "
   ]
  },
  {
   "cell_type": "code",
   "execution_count": null,
   "id": "087c3ca2-f890-444e-8c55-3e76a51a53fb",
   "metadata": {},
   "outputs": [],
   "source": [
    "url = f'https://www.medicine.com/pill-finder/search?imprint=&shape=2&color='\n",
    "response = requests.get(url)\n",
    "soup = BeautifulSoup(response.text, 'html.parser')\n",
    "images = soup.find_all('select', {\"name\":\"shape\"})\n",
    "for i in images[0].find_all(\"option\"):\n",
    "    index  = i[\"value\"]\n",
    "    name_index = i.get_text()\n",
    "    if index != \"\":\n",
    "        crawpling_data(name_index, index)\n"
   ]
  },
  {
   "cell_type": "code",
   "execution_count": null,
   "id": "d288e16f-6ac3-4f34-a709-8d4e62817a94",
   "metadata": {},
   "outputs": [],
   "source": [
    "url = 'https://www.medicine.com/pill-finder/search?imprint=&shape=3&color=&page=1'\n",
    "response = requests.get(url)"
   ]
  },
  {
   "cell_type": "code",
   "execution_count": null,
   "id": "b5c99496-98f4-463d-a3fb-6c595afe213c",
   "metadata": {},
   "outputs": [],
   "source": [
    "soup = BeautifulSoup(response.text, 'html.parser')\n",
    "images = soup.find_all('img')"
   ]
  },
  {
   "cell_type": "code",
   "execution_count": null,
   "id": "5024c4a6-589b-4937-a55c-1c929781a1f9",
   "metadata": {},
   "outputs": [],
   "source": [
    "for image in images:\n",
    "    print(image['src'])"
   ]
  },
  {
   "cell_type": "code",
   "execution_count": null,
   "id": "e20c5587-b7db-4fee-b9d4-4ce8b2adc0a6",
   "metadata": {},
   "outputs": [],
   "source": [
    "import requests\n",
    "import shutil\n",
    "\n",
    "url = 'https://www.medicine.com/cms/img/imprint/mmx/t101840f.jpg'\n",
    "response = requests.get(url, stream=True)\n",
    "\n",
    "with open('Image1/example/image.jpg', 'wb') as out_file:\n",
    "    shutil.copyfileobj(response.raw, out_file)"
   ]
  },
  {
   "cell_type": "code",
   "execution_count": null,
   "id": "2967c1cb-f31d-4fbf-90cf-9a207d71049f",
   "metadata": {},
   "outputs": [],
   "source": [
    "while True:\n",
    "url = 'https://www.medicine.com/pill-finder/search?imprint=&shape=2&color=&page=400'\n",
    "response = requests.get(url)\n",
    "soup = BeautifulSoup(response.text, 'html.parser')\n",
    "images = soup.find_all('a', {\"rel\":'next'})"
   ]
  },
  {
   "cell_type": "code",
   "execution_count": null,
   "id": "e1869729-789d-408f-831b-fcb6e16eea1d",
   "metadata": {},
   "outputs": [],
   "source": [
    "tam = 1\n",
    "while True:\n",
    "    print(tam)\n",
    "    url = f'https://www.medicine.com/pill-finder/search?imprint=&shape=1&color=&page={tam}'\n",
    "    response = requests.get(url)\n",
    "    soup = BeautifulSoup(response.text, 'html.parser')\n",
    "    images = soup.find_all('a', {\"rel\":'next'})\n",
    "    if tam == 1000:\n",
    "        break\n",
    "    if len(images) == 0:\n",
    "        print(tam)\n",
    "        break\n",
    "    tam+=1"
   ]
  },
  {
   "cell_type": "code",
   "execution_count": null,
   "id": "6bf5388c-fb89-44e3-bddd-50d58b090e86",
   "metadata": {},
   "outputs": [],
   "source": [
    "url = f'https://www.medicine.com/pill-finder/search?imprint=&shape=2&color=&page=2'\n",
    "response = requests.get(url)\n",
    "soup = BeautifulSoup(response.text, 'html.parser')\n",
    "images = soup.find_all('ul',{\"class\":\"mdc-pagination\"})\n",
    "images"
   ]
  },
  {
   "cell_type": "code",
   "execution_count": null,
   "id": "f19a66f4-465e-48b9-8773-20133c1f5208",
   "metadata": {},
   "outputs": [],
   "source": [
    "url = f'https://www.medicine.com/pill-finder/search?imprint=&shape=2&color=&page=2'\n",
    "response = requests.get(url)\n",
    "soup = BeautifulSoup(response.text, 'html.parser')\n",
    "images = soup.find_all('select', {\"name\":\"shape\"})\n",
    "for i in images[0].find_all(\"option\"):\n",
    "    print(i[\"value\"], i.get_text())"
   ]
  },
  {
   "cell_type": "code",
   "execution_count": null,
   "id": "06b43072-82b9-469b-ac9c-7752e86954df",
   "metadata": {},
   "outputs": [],
   "source": [
    "images[0].find_all(\"a\")[-2].get_text()"
   ]
  },
  {
   "cell_type": "code",
   "execution_count": null,
   "id": "b87cb161-b5b7-41f1-bd2d-22f96529fbff",
   "metadata": {},
   "outputs": [],
   "source": [
    "tam = 1\n",
    "while True:\n",
    "    print(tam)\n",
    "    url = f'https://www.medicine.com/pill-finder/search?imprint=&shape=1&color=&page={tam}'\n",
    "    response = requests.get(url)\n",
    "    soup = BeautifulSoup(response.text, 'html.parser')\n",
    "    images = soup.find_all('a', {\"rel\":'next'})\n",
    "    if tam == 1000:\n",
    "        break\n",
    "    if len(images) == 0:\n",
    "        print(tam)\n",
    "        break\n",
    "    tam+=1"
   ]
  },
  {
   "cell_type": "code",
   "execution_count": null,
   "id": "e7d188e8-2de4-4fa1-acce-ada9ccce9f5b",
   "metadata": {},
   "outputs": [],
   "source": [
    "url = f'https://www.medicine.com/pill-finder/search?imprint=&shape=3&color=&page=1'\n",
    "response = requests.get(url)\n",
    "soup = BeautifulSoup(response.text, 'html.parser')\n",
    "index_x = soup.find_all('ul',{\"class\":\"mdc-pagination\"})\n",
    "# index_number = index_x[0].find_all(\"a\")[-2].get_text()\n",
    "# index_number\n",
    "index_x"
   ]
  },
  {
   "cell_type": "code",
   "execution_count": null,
   "id": "57264e27-5ec4-4a8b-82df-7a0008d67bba",
   "metadata": {},
   "outputs": [],
   "source": [
    "soup"
   ]
  },
  {
   "cell_type": "code",
   "execution_count": null,
   "id": "9374bb98-622b-4967-82ac-e8c008920e43",
   "metadata": {},
   "outputs": [],
   "source": [
    "images[0].findAll('b')[0].text"
   ]
  },
  {
   "cell_type": "code",
   "execution_count": null,
   "id": "fa3a10ae-7ed8-4f91-9208-632a682dd9e4",
   "metadata": {},
   "outputs": [],
   "source": [
    "def data_system():\n",
    "    "
   ]
  }
 ],
 "metadata": {
  "kernelspec": {
   "display_name": "Python 3 (ipykernel)",
   "language": "python",
   "name": "python3"
  },
  "language_info": {
   "codemirror_mode": {
    "name": "ipython",
    "version": 3
   },
   "file_extension": ".py",
   "mimetype": "text/x-python",
   "name": "python",
   "nbconvert_exporter": "python",
   "pygments_lexer": "ipython3",
   "version": "3.10.6"
  }
 },
 "nbformat": 4,
 "nbformat_minor": 5
}
